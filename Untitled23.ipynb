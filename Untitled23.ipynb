{
  "nbformat": 4,
  "nbformat_minor": 0,
  "metadata": {
    "colab": {
      "provenance": []
    },
    "kernelspec": {
      "name": "python3",
      "display_name": "Python 3"
    },
    "language_info": {
      "name": "python"
    }
  },
  "cells": [
    {
      "cell_type": "code",
      "execution_count": null,
      "metadata": {
        "id": "O1z963lzd3Mk"
      },
      "outputs": [],
      "source": [
        "import numpy as np\n",
        "import matplotlib.pyplot as plt\n",
        "import pandas as pd\n",
        "from sklearn.preprocessing import MinMaxScaler\n",
        "from keras import layers\n",
        "from keras.models import Sequential\n",
        "import tensorflow as tf"
      ]
    },
    {
      "cell_type": "code",
      "source": [
        "data = pd.read_csv('trainset.csv')"
      ],
      "metadata": {
        "id": "SYhGEcdmeFUE"
      },
      "execution_count": null,
      "outputs": []
    },
    {
      "cell_type": "code",
      "source": [
        "print(data.columns)"
      ],
      "metadata": {
        "colab": {
          "base_uri": "https://localhost:8080/"
        },
        "id": "8OBC3TgheFWM",
        "outputId": "7dfcb7a0-d842-498c-8159-1124bad37bfe"
      },
      "execution_count": null,
      "outputs": [
        {
          "output_type": "stream",
          "name": "stdout",
          "text": [
            "Index(['Date', 'Open', 'High', 'Low', 'Close', 'Adj Close', 'Volume'], dtype='object')\n"
          ]
        }
      ]
    },
    {
      "cell_type": "code",
      "source": [
        "print(data.head())"
      ],
      "metadata": {
        "colab": {
          "base_uri": "https://localhost:8080/"
        },
        "id": "RKqNJNn6eFYj",
        "outputId": "b7e08e95-27ba-4fb2-efc2-9091a5b96585"
      },
      "execution_count": null,
      "outputs": [
        {
          "output_type": "stream",
          "name": "stdout",
          "text": [
            "         Date        Open        High         Low       Close   Adj Close  \\\n",
            "0  2013-01-02  357.385559  361.151062  355.959839  359.288177  359.288177   \n",
            "1  2013-01-03  360.122742  363.600128  358.031342  359.496826  359.496826   \n",
            "2  2013-01-04  362.313507  368.339294  361.488861  366.600616  366.600616   \n",
            "3  2013-01-07  365.348755  367.301056  362.929504  365.001007  365.001007   \n",
            "4  2013-01-08  365.393463  365.771027  359.874359  364.280701  364.280701   \n",
            "\n",
            "    Volume  \n",
            "0  5115500  \n",
            "1  4666500  \n",
            "2  5562800  \n",
            "3  3332900  \n",
            "4  3373900  \n"
          ]
        }
      ]
    },
    {
      "cell_type": "code",
      "source": [
        "training_set = data.iloc[:,1:2].values"
      ],
      "metadata": {
        "id": "KImTBoAJeFaz"
      },
      "execution_count": null,
      "outputs": []
    },
    {
      "cell_type": "code",
      "source": [
        "type(training_set)"
      ],
      "metadata": {
        "colab": {
          "base_uri": "https://localhost:8080/"
        },
        "id": "ONlbv2veeFdL",
        "outputId": "639b7174-07bf-478b-c15d-d41687a5b57c"
      },
      "execution_count": null,
      "outputs": [
        {
          "output_type": "execute_result",
          "data": {
            "text/plain": [
              "numpy.ndarray"
            ]
          },
          "metadata": {},
          "execution_count": 6
        }
      ]
    },
    {
      "cell_type": "code",
      "source": [
        "print(training_set.shape)"
      ],
      "metadata": {
        "colab": {
          "base_uri": "https://localhost:8080/"
        },
        "id": "LNxkNG47eFfb",
        "outputId": "e6a6af0a-2ae7-4bdc-8647-a1ba82d9e63b"
      },
      "execution_count": null,
      "outputs": [
        {
          "output_type": "stream",
          "name": "stdout",
          "text": [
            "(1259, 1)\n"
          ]
        }
      ]
    },
    {
      "cell_type": "code",
      "source": [
        "sc = MinMaxScaler(feature_range=(0,1))\n",
        "training_set_scaled = sc.fit_transform(training_set)"
      ],
      "metadata": {
        "id": "U29qsDnDeFhj"
      },
      "execution_count": null,
      "outputs": []
    },
    {
      "cell_type": "code",
      "source": [
        "print(training_set_scaled.shape)"
      ],
      "metadata": {
        "colab": {
          "base_uri": "https://localhost:8080/"
        },
        "id": "F-3240iAeFjs",
        "outputId": "7da17df1-cc42-48ec-cf93-bd2f68309d75"
      },
      "execution_count": null,
      "outputs": [
        {
          "output_type": "stream",
          "name": "stdout",
          "text": [
            "(1259, 1)\n"
          ]
        }
      ]
    },
    {
      "cell_type": "code",
      "source": [
        "X_train_arr = []\n",
        "y_train_arr = []\n",
        "for i in range(60, 1259):\n",
        "    X_train_arr.append(training_set_scaled[i-60:i,0])\n",
        "    y_train_arr.append(training_set_scaled[i,0])\n",
        "X_train, y_train = np.array(X_train_arr), np.array(y_train_arr)\n",
        "X_train1 = X_train.reshape((X_train.shape[0], X_train.shape[1],1))"
      ],
      "metadata": {
        "id": "sZVOKvmheFmm"
      },
      "execution_count": null,
      "outputs": []
    },
    {
      "cell_type": "code",
      "source": [
        "print(X_train.shape)"
      ],
      "metadata": {
        "colab": {
          "base_uri": "https://localhost:8080/"
        },
        "id": "hBGYLIPWeFo7",
        "outputId": "16668b76-b21d-4655-dde4-68d6b66f8e95"
      },
      "execution_count": null,
      "outputs": [
        {
          "output_type": "stream",
          "name": "stdout",
          "text": [
            "(1199, 60)\n"
          ]
        }
      ]
    },
    {
      "cell_type": "code",
      "source": [
        "length = 60\n",
        "n_features = 1"
      ],
      "metadata": {
        "id": "sOLixvtHfSyF"
      },
      "execution_count": null,
      "outputs": []
    },
    {
      "cell_type": "code",
      "source": [
        "model=Sequential()\n",
        "model.add(layers.SimpleRNN(60,input_shape=(60,1)))\n",
        "model.add(layers.Dense(1))\n",
        "model.summary()"
      ],
      "metadata": {
        "id": "k9ytTf-HfS0c",
        "colab": {
          "base_uri": "https://localhost:8080/"
        },
        "outputId": "fdec1242-b9d6-492d-cde9-e475f488f263"
      },
      "execution_count": null,
      "outputs": [
        {
          "output_type": "stream",
          "name": "stdout",
          "text": [
            "Model: \"sequential_2\"\n",
            "_________________________________________________________________\n",
            " Layer (type)                Output Shape              Param #   \n",
            "=================================================================\n",
            " simple_rnn_2 (SimpleRNN)    (None, 60)                3720      \n",
            "                                                                 \n",
            " dense_2 (Dense)             (None, 1)                 61        \n",
            "                                                                 \n",
            "=================================================================\n",
            "Total params: 3,781\n",
            "Trainable params: 3,781\n",
            "Non-trainable params: 0\n",
            "_________________________________________________________________\n"
          ]
        }
      ]
    },
    {
      "cell_type": "code",
      "source": [
        "model.compile(optimizer='adam', loss='mse')\n",
        "model.summary()"
      ],
      "metadata": {
        "id": "YPB2uKmqfS2s",
        "colab": {
          "base_uri": "https://localhost:8080/"
        },
        "outputId": "3c911442-c09d-4d92-bee3-74756460806a"
      },
      "execution_count": null,
      "outputs": [
        {
          "output_type": "stream",
          "name": "stdout",
          "text": [
            "Model: \"sequential_2\"\n",
            "_________________________________________________________________\n",
            " Layer (type)                Output Shape              Param #   \n",
            "=================================================================\n",
            " simple_rnn_2 (SimpleRNN)    (None, 60)                3720      \n",
            "                                                                 \n",
            " dense_2 (Dense)             (None, 1)                 61        \n",
            "                                                                 \n",
            "=================================================================\n",
            "Total params: 3,781\n",
            "Trainable params: 3,781\n",
            "Non-trainable params: 0\n",
            "_________________________________________________________________\n"
          ]
        }
      ]
    },
    {
      "cell_type": "code",
      "source": [
        "model.fit(X_train1,y_train,epochs=200, batch_size=64)"
      ],
      "metadata": {
        "colab": {
          "base_uri": "https://localhost:8080/"
        },
        "id": "e14MbCpKfS48",
        "outputId": "23840931-b1f0-4589-daf5-b6956d4641bd"
      },
      "execution_count": null,
      "outputs": [
        {
          "output_type": "stream",
          "name": "stdout",
          "text": [
            "Epoch 1/200\n",
            "19/19 [==============================] - 1s 9ms/step - loss: 0.0924\n",
            "Epoch 2/200\n",
            "19/19 [==============================] - 0s 10ms/step - loss: 0.0037\n",
            "Epoch 3/200\n",
            "19/19 [==============================] - 0s 11ms/step - loss: 0.0020\n",
            "Epoch 4/200\n",
            "19/19 [==============================] - 0s 11ms/step - loss: 0.0016\n",
            "Epoch 5/200\n",
            "19/19 [==============================] - 0s 10ms/step - loss: 0.0015\n",
            "Epoch 6/200\n",
            "19/19 [==============================] - 0s 11ms/step - loss: 0.0013\n",
            "Epoch 7/200\n",
            "19/19 [==============================] - 0s 10ms/step - loss: 0.0012\n",
            "Epoch 8/200\n",
            "19/19 [==============================] - 0s 11ms/step - loss: 0.0011\n",
            "Epoch 9/200\n",
            "19/19 [==============================] - 0s 14ms/step - loss: 0.0010\n",
            "Epoch 10/200\n",
            "19/19 [==============================] - 0s 9ms/step - loss: 0.0010\n",
            "Epoch 11/200\n",
            "19/19 [==============================] - 0s 11ms/step - loss: 9.5709e-04\n",
            "Epoch 12/200\n",
            "19/19 [==============================] - 0s 11ms/step - loss: 9.6108e-04\n",
            "Epoch 13/200\n",
            "19/19 [==============================] - 0s 11ms/step - loss: 0.0011\n",
            "Epoch 14/200\n",
            "19/19 [==============================] - 0s 10ms/step - loss: 9.0956e-04\n",
            "Epoch 15/200\n",
            "19/19 [==============================] - 0s 10ms/step - loss: 9.0328e-04\n",
            "Epoch 16/200\n",
            "19/19 [==============================] - 0s 10ms/step - loss: 8.4683e-04\n",
            "Epoch 17/200\n",
            "19/19 [==============================] - 0s 8ms/step - loss: 8.9403e-04\n",
            "Epoch 18/200\n",
            "19/19 [==============================] - 0s 9ms/step - loss: 7.7859e-04\n",
            "Epoch 19/200\n",
            "19/19 [==============================] - 0s 8ms/step - loss: 9.1366e-04\n",
            "Epoch 20/200\n",
            "19/19 [==============================] - 0s 8ms/step - loss: 0.0010\n",
            "Epoch 21/200\n",
            "19/19 [==============================] - 0s 8ms/step - loss: 8.1528e-04\n",
            "Epoch 22/200\n",
            "19/19 [==============================] - 0s 8ms/step - loss: 7.8983e-04\n",
            "Epoch 23/200\n",
            "19/19 [==============================] - 0s 8ms/step - loss: 7.7217e-04\n",
            "Epoch 24/200\n",
            "19/19 [==============================] - 0s 8ms/step - loss: 6.4092e-04\n",
            "Epoch 25/200\n",
            "19/19 [==============================] - 0s 11ms/step - loss: 6.3927e-04\n",
            "Epoch 26/200\n",
            "19/19 [==============================] - 0s 10ms/step - loss: 6.4466e-04\n",
            "Epoch 27/200\n",
            "19/19 [==============================] - 0s 9ms/step - loss: 6.2158e-04\n",
            "Epoch 28/200\n",
            "19/19 [==============================] - 0s 10ms/step - loss: 6.4111e-04\n",
            "Epoch 29/200\n",
            "19/19 [==============================] - 0s 11ms/step - loss: 6.1054e-04\n",
            "Epoch 30/200\n",
            "19/19 [==============================] - 0s 10ms/step - loss: 6.0294e-04\n",
            "Epoch 31/200\n",
            "19/19 [==============================] - 0s 9ms/step - loss: 5.6352e-04\n",
            "Epoch 32/200\n",
            "19/19 [==============================] - 0s 8ms/step - loss: 5.4573e-04\n",
            "Epoch 33/200\n",
            "19/19 [==============================] - 0s 9ms/step - loss: 5.2241e-04\n",
            "Epoch 34/200\n",
            "19/19 [==============================] - 0s 11ms/step - loss: 5.3530e-04\n",
            "Epoch 35/200\n",
            "19/19 [==============================] - 0s 10ms/step - loss: 5.3765e-04\n",
            "Epoch 36/200\n",
            "19/19 [==============================] - 0s 10ms/step - loss: 5.5271e-04\n",
            "Epoch 37/200\n",
            "19/19 [==============================] - 0s 10ms/step - loss: 5.2357e-04\n",
            "Epoch 38/200\n",
            "19/19 [==============================] - 0s 10ms/step - loss: 4.9552e-04\n",
            "Epoch 39/200\n",
            "19/19 [==============================] - 0s 8ms/step - loss: 4.8237e-04\n",
            "Epoch 40/200\n",
            "19/19 [==============================] - 0s 8ms/step - loss: 4.8700e-04\n",
            "Epoch 41/200\n",
            "19/19 [==============================] - 0s 8ms/step - loss: 4.7443e-04\n",
            "Epoch 42/200\n",
            "19/19 [==============================] - 0s 8ms/step - loss: 4.6980e-04\n",
            "Epoch 43/200\n",
            "19/19 [==============================] - 0s 7ms/step - loss: 4.6079e-04\n",
            "Epoch 44/200\n",
            "19/19 [==============================] - 0s 8ms/step - loss: 4.9018e-04\n",
            "Epoch 45/200\n",
            "19/19 [==============================] - 0s 10ms/step - loss: 4.8715e-04\n",
            "Epoch 46/200\n",
            "19/19 [==============================] - 0s 10ms/step - loss: 4.8462e-04\n",
            "Epoch 47/200\n",
            "19/19 [==============================] - 0s 11ms/step - loss: 4.9273e-04\n",
            "Epoch 48/200\n",
            "19/19 [==============================] - 0s 10ms/step - loss: 4.8764e-04\n",
            "Epoch 49/200\n",
            "19/19 [==============================] - 0s 10ms/step - loss: 4.7511e-04\n",
            "Epoch 50/200\n",
            "19/19 [==============================] - 0s 10ms/step - loss: 4.4271e-04\n",
            "Epoch 51/200\n",
            "19/19 [==============================] - 0s 8ms/step - loss: 4.3179e-04\n",
            "Epoch 52/200\n",
            "19/19 [==============================] - 0s 8ms/step - loss: 4.2448e-04\n",
            "Epoch 53/200\n",
            "19/19 [==============================] - 0s 8ms/step - loss: 4.6349e-04\n",
            "Epoch 54/200\n",
            "19/19 [==============================] - 0s 8ms/step - loss: 4.9536e-04\n",
            "Epoch 55/200\n",
            "19/19 [==============================] - 0s 8ms/step - loss: 6.0488e-04\n",
            "Epoch 56/200\n",
            "19/19 [==============================] - 0s 9ms/step - loss: 4.8303e-04\n",
            "Epoch 57/200\n",
            "19/19 [==============================] - 0s 10ms/step - loss: 3.6802e-04\n",
            "Epoch 58/200\n",
            "19/19 [==============================] - 0s 10ms/step - loss: 3.5938e-04\n",
            "Epoch 59/200\n",
            "19/19 [==============================] - 0s 10ms/step - loss: 3.7680e-04\n",
            "Epoch 60/200\n",
            "19/19 [==============================] - 0s 10ms/step - loss: 3.6425e-04\n",
            "Epoch 61/200\n",
            "19/19 [==============================] - 0s 10ms/step - loss: 4.2856e-04\n",
            "Epoch 62/200\n",
            "19/19 [==============================] - 0s 8ms/step - loss: 3.5056e-04\n",
            "Epoch 63/200\n",
            "19/19 [==============================] - 0s 9ms/step - loss: 3.3752e-04\n",
            "Epoch 64/200\n",
            "19/19 [==============================] - 0s 7ms/step - loss: 3.5179e-04\n",
            "Epoch 65/200\n",
            "19/19 [==============================] - 0s 8ms/step - loss: 3.5392e-04\n",
            "Epoch 66/200\n",
            "19/19 [==============================] - 0s 9ms/step - loss: 3.2818e-04\n",
            "Epoch 67/200\n",
            "19/19 [==============================] - 0s 9ms/step - loss: 3.2410e-04\n",
            "Epoch 68/200\n",
            "19/19 [==============================] - 0s 10ms/step - loss: 3.2598e-04\n",
            "Epoch 69/200\n",
            "19/19 [==============================] - 0s 10ms/step - loss: 3.5075e-04\n",
            "Epoch 70/200\n",
            "19/19 [==============================] - 0s 10ms/step - loss: 3.5851e-04\n",
            "Epoch 71/200\n",
            "19/19 [==============================] - 0s 9ms/step - loss: 3.2243e-04\n",
            "Epoch 72/200\n",
            "19/19 [==============================] - 0s 11ms/step - loss: 3.1443e-04\n",
            "Epoch 73/200\n",
            "19/19 [==============================] - 0s 8ms/step - loss: 3.5075e-04\n",
            "Epoch 74/200\n",
            "19/19 [==============================] - 0s 8ms/step - loss: 3.4300e-04\n",
            "Epoch 75/200\n",
            "19/19 [==============================] - 0s 8ms/step - loss: 3.0690e-04\n",
            "Epoch 76/200\n",
            "19/19 [==============================] - 0s 7ms/step - loss: 3.1666e-04\n",
            "Epoch 77/200\n",
            "19/19 [==============================] - 0s 8ms/step - loss: 3.1024e-04\n",
            "Epoch 78/200\n",
            "19/19 [==============================] - 0s 8ms/step - loss: 2.9565e-04\n",
            "Epoch 79/200\n",
            "19/19 [==============================] - 0s 8ms/step - loss: 3.2373e-04\n",
            "Epoch 80/200\n",
            "19/19 [==============================] - 0s 8ms/step - loss: 3.2736e-04\n",
            "Epoch 81/200\n",
            "19/19 [==============================] - 0s 8ms/step - loss: 3.0134e-04\n",
            "Epoch 82/200\n",
            "19/19 [==============================] - 0s 8ms/step - loss: 2.9425e-04\n",
            "Epoch 83/200\n",
            "19/19 [==============================] - 0s 9ms/step - loss: 3.0877e-04\n",
            "Epoch 84/200\n",
            "19/19 [==============================] - 0s 8ms/step - loss: 2.8291e-04\n",
            "Epoch 85/200\n",
            "19/19 [==============================] - 0s 9ms/step - loss: 3.3164e-04\n",
            "Epoch 86/200\n",
            "19/19 [==============================] - 0s 8ms/step - loss: 3.3101e-04\n",
            "Epoch 87/200\n",
            "19/19 [==============================] - 0s 9ms/step - loss: 2.7799e-04\n",
            "Epoch 88/200\n",
            "19/19 [==============================] - 0s 8ms/step - loss: 2.7235e-04\n",
            "Epoch 89/200\n",
            "19/19 [==============================] - 0s 8ms/step - loss: 2.8071e-04\n",
            "Epoch 90/200\n",
            "19/19 [==============================] - 0s 8ms/step - loss: 2.7010e-04\n",
            "Epoch 91/200\n",
            "19/19 [==============================] - 0s 9ms/step - loss: 2.7424e-04\n",
            "Epoch 92/200\n",
            "19/19 [==============================] - 0s 9ms/step - loss: 3.3030e-04\n",
            "Epoch 93/200\n",
            "19/19 [==============================] - 0s 11ms/step - loss: 2.8407e-04\n",
            "Epoch 94/200\n",
            "19/19 [==============================] - 0s 10ms/step - loss: 2.6336e-04\n",
            "Epoch 95/200\n",
            "19/19 [==============================] - 0s 10ms/step - loss: 2.5932e-04\n",
            "Epoch 96/200\n",
            "19/19 [==============================] - 0s 11ms/step - loss: 2.5586e-04\n",
            "Epoch 97/200\n",
            "19/19 [==============================] - 0s 9ms/step - loss: 2.5644e-04\n",
            "Epoch 98/200\n",
            "19/19 [==============================] - 0s 10ms/step - loss: 2.6061e-04\n",
            "Epoch 99/200\n",
            "19/19 [==============================] - 0s 9ms/step - loss: 2.5267e-04\n",
            "Epoch 100/200\n",
            "19/19 [==============================] - 0s 8ms/step - loss: 2.7970e-04\n",
            "Epoch 101/200\n",
            "19/19 [==============================] - 0s 8ms/step - loss: 2.5700e-04\n",
            "Epoch 102/200\n",
            "19/19 [==============================] - 0s 11ms/step - loss: 2.6752e-04\n",
            "Epoch 103/200\n",
            "19/19 [==============================] - 0s 9ms/step - loss: 2.8661e-04\n",
            "Epoch 104/200\n",
            "19/19 [==============================] - 0s 8ms/step - loss: 2.8265e-04\n",
            "Epoch 105/200\n",
            "19/19 [==============================] - 0s 8ms/step - loss: 2.7172e-04\n",
            "Epoch 106/200\n",
            "19/19 [==============================] - 0s 8ms/step - loss: 2.5754e-04\n",
            "Epoch 107/200\n",
            "19/19 [==============================] - 0s 8ms/step - loss: 2.6924e-04\n",
            "Epoch 108/200\n",
            "19/19 [==============================] - 0s 9ms/step - loss: 2.4694e-04\n",
            "Epoch 109/200\n",
            "19/19 [==============================] - 0s 7ms/step - loss: 2.5141e-04\n",
            "Epoch 110/200\n",
            "19/19 [==============================] - 0s 8ms/step - loss: 2.4060e-04\n",
            "Epoch 111/200\n",
            "19/19 [==============================] - 0s 8ms/step - loss: 2.6945e-04\n",
            "Epoch 112/200\n",
            "19/19 [==============================] - 0s 8ms/step - loss: 2.6967e-04\n",
            "Epoch 113/200\n",
            "19/19 [==============================] - 0s 8ms/step - loss: 2.7839e-04\n",
            "Epoch 114/200\n",
            "19/19 [==============================] - 0s 8ms/step - loss: 3.0259e-04\n",
            "Epoch 115/200\n",
            "19/19 [==============================] - 0s 8ms/step - loss: 2.5525e-04\n",
            "Epoch 116/200\n",
            "19/19 [==============================] - 0s 8ms/step - loss: 2.7076e-04\n",
            "Epoch 117/200\n",
            "19/19 [==============================] - 0s 8ms/step - loss: 2.3858e-04\n",
            "Epoch 118/200\n",
            "19/19 [==============================] - 0s 8ms/step - loss: 2.3024e-04\n",
            "Epoch 119/200\n",
            "19/19 [==============================] - 0s 8ms/step - loss: 2.4517e-04\n",
            "Epoch 120/200\n",
            "19/19 [==============================] - 0s 8ms/step - loss: 3.0219e-04\n",
            "Epoch 121/200\n",
            "19/19 [==============================] - 0s 9ms/step - loss: 2.3345e-04\n",
            "Epoch 122/200\n",
            "19/19 [==============================] - 0s 9ms/step - loss: 2.2811e-04\n",
            "Epoch 123/200\n",
            "19/19 [==============================] - 0s 8ms/step - loss: 2.3601e-04\n",
            "Epoch 124/200\n",
            "19/19 [==============================] - 0s 8ms/step - loss: 2.2832e-04\n",
            "Epoch 125/200\n",
            "19/19 [==============================] - 0s 8ms/step - loss: 2.4264e-04\n",
            "Epoch 126/200\n",
            "19/19 [==============================] - 0s 8ms/step - loss: 2.3023e-04\n",
            "Epoch 127/200\n",
            "19/19 [==============================] - 0s 9ms/step - loss: 2.1606e-04\n",
            "Epoch 128/200\n",
            "19/19 [==============================] - 0s 10ms/step - loss: 2.1951e-04\n",
            "Epoch 129/200\n",
            "19/19 [==============================] - 0s 9ms/step - loss: 2.2636e-04\n",
            "Epoch 130/200\n",
            "19/19 [==============================] - 0s 9ms/step - loss: 2.7436e-04\n",
            "Epoch 131/200\n",
            "19/19 [==============================] - 0s 10ms/step - loss: 2.3217e-04\n",
            "Epoch 132/200\n",
            "19/19 [==============================] - 0s 9ms/step - loss: 2.3150e-04\n",
            "Epoch 133/200\n",
            "19/19 [==============================] - 0s 9ms/step - loss: 2.4534e-04\n",
            "Epoch 134/200\n",
            "19/19 [==============================] - 0s 8ms/step - loss: 2.1884e-04\n",
            "Epoch 135/200\n",
            "19/19 [==============================] - 0s 8ms/step - loss: 2.2003e-04\n",
            "Epoch 136/200\n",
            "19/19 [==============================] - 0s 8ms/step - loss: 2.1584e-04\n",
            "Epoch 137/200\n",
            "19/19 [==============================] - 0s 8ms/step - loss: 2.4218e-04\n",
            "Epoch 138/200\n",
            "19/19 [==============================] - 0s 8ms/step - loss: 2.3650e-04\n",
            "Epoch 139/200\n",
            "19/19 [==============================] - 0s 8ms/step - loss: 2.1411e-04\n",
            "Epoch 140/200\n",
            "19/19 [==============================] - 0s 8ms/step - loss: 2.1067e-04\n",
            "Epoch 141/200\n",
            "19/19 [==============================] - 0s 8ms/step - loss: 2.2154e-04\n",
            "Epoch 142/200\n",
            "19/19 [==============================] - 0s 8ms/step - loss: 2.3810e-04\n",
            "Epoch 143/200\n",
            "19/19 [==============================] - 0s 8ms/step - loss: 2.1107e-04\n",
            "Epoch 144/200\n",
            "19/19 [==============================] - 0s 9ms/step - loss: 2.1563e-04\n",
            "Epoch 145/200\n",
            "19/19 [==============================] - 0s 9ms/step - loss: 2.2875e-04\n",
            "Epoch 146/200\n",
            "19/19 [==============================] - 0s 10ms/step - loss: 2.2862e-04\n",
            "Epoch 147/200\n",
            "19/19 [==============================] - 0s 9ms/step - loss: 2.0754e-04\n",
            "Epoch 148/200\n",
            "19/19 [==============================] - 0s 10ms/step - loss: 2.0386e-04\n",
            "Epoch 149/200\n",
            "19/19 [==============================] - 0s 11ms/step - loss: 2.1311e-04\n",
            "Epoch 150/200\n",
            "19/19 [==============================] - 0s 11ms/step - loss: 2.7012e-04\n",
            "Epoch 151/200\n",
            "19/19 [==============================] - 0s 10ms/step - loss: 2.7452e-04\n",
            "Epoch 152/200\n",
            "19/19 [==============================] - 0s 10ms/step - loss: 2.3758e-04\n",
            "Epoch 153/200\n",
            "19/19 [==============================] - 0s 10ms/step - loss: 2.1285e-04\n",
            "Epoch 154/200\n",
            "19/19 [==============================] - 0s 9ms/step - loss: 1.9989e-04\n",
            "Epoch 155/200\n",
            "19/19 [==============================] - 0s 9ms/step - loss: 1.9676e-04\n",
            "Epoch 156/200\n",
            "19/19 [==============================] - 0s 9ms/step - loss: 1.9489e-04\n",
            "Epoch 157/200\n",
            "19/19 [==============================] - 0s 8ms/step - loss: 1.9344e-04\n",
            "Epoch 158/200\n",
            "19/19 [==============================] - 0s 8ms/step - loss: 1.9387e-04\n",
            "Epoch 159/200\n",
            "19/19 [==============================] - 0s 9ms/step - loss: 2.2645e-04\n",
            "Epoch 160/200\n",
            "19/19 [==============================] - 0s 9ms/step - loss: 2.2769e-04\n",
            "Epoch 161/200\n",
            "19/19 [==============================] - 0s 8ms/step - loss: 2.0272e-04\n",
            "Epoch 162/200\n",
            "19/19 [==============================] - 0s 10ms/step - loss: 1.8894e-04\n",
            "Epoch 163/200\n",
            "19/19 [==============================] - 0s 11ms/step - loss: 2.1660e-04\n",
            "Epoch 164/200\n",
            "19/19 [==============================] - 0s 10ms/step - loss: 1.9104e-04\n",
            "Epoch 165/200\n",
            "19/19 [==============================] - 0s 9ms/step - loss: 1.9607e-04\n",
            "Epoch 166/200\n",
            "19/19 [==============================] - 0s 10ms/step - loss: 2.1279e-04\n",
            "Epoch 167/200\n",
            "19/19 [==============================] - 0s 10ms/step - loss: 1.9947e-04\n",
            "Epoch 168/200\n",
            "19/19 [==============================] - 0s 10ms/step - loss: 1.9737e-04\n",
            "Epoch 169/200\n",
            "19/19 [==============================] - 0s 10ms/step - loss: 1.8920e-04\n",
            "Epoch 170/200\n",
            "19/19 [==============================] - 0s 9ms/step - loss: 1.9093e-04\n",
            "Epoch 171/200\n",
            "19/19 [==============================] - 0s 10ms/step - loss: 1.9687e-04\n",
            "Epoch 172/200\n",
            "19/19 [==============================] - 0s 9ms/step - loss: 2.2521e-04\n",
            "Epoch 173/200\n",
            "19/19 [==============================] - 0s 8ms/step - loss: 1.9271e-04\n",
            "Epoch 174/200\n",
            "19/19 [==============================] - 0s 7ms/step - loss: 1.8824e-04\n",
            "Epoch 175/200\n",
            "19/19 [==============================] - 0s 8ms/step - loss: 2.0609e-04\n",
            "Epoch 176/200\n",
            "19/19 [==============================] - 0s 8ms/step - loss: 1.8483e-04\n",
            "Epoch 177/200\n",
            "19/19 [==============================] - 0s 9ms/step - loss: 1.9444e-04\n",
            "Epoch 178/200\n",
            "19/19 [==============================] - 0s 10ms/step - loss: 1.9121e-04\n",
            "Epoch 179/200\n",
            "19/19 [==============================] - 0s 10ms/step - loss: 1.8572e-04\n",
            "Epoch 180/200\n",
            "19/19 [==============================] - 0s 11ms/step - loss: 1.8020e-04\n",
            "Epoch 181/200\n",
            "19/19 [==============================] - 0s 10ms/step - loss: 1.8986e-04\n",
            "Epoch 182/200\n",
            "19/19 [==============================] - 0s 11ms/step - loss: 1.8172e-04\n",
            "Epoch 183/200\n",
            "19/19 [==============================] - 0s 8ms/step - loss: 1.7452e-04\n",
            "Epoch 184/200\n",
            "19/19 [==============================] - 0s 8ms/step - loss: 1.8443e-04\n",
            "Epoch 185/200\n",
            "19/19 [==============================] - 0s 9ms/step - loss: 1.8748e-04\n",
            "Epoch 186/200\n",
            "19/19 [==============================] - 0s 8ms/step - loss: 1.9447e-04\n",
            "Epoch 187/200\n",
            "19/19 [==============================] - 0s 9ms/step - loss: 1.8319e-04\n",
            "Epoch 188/200\n",
            "19/19 [==============================] - 0s 9ms/step - loss: 2.0309e-04\n",
            "Epoch 189/200\n",
            "19/19 [==============================] - 0s 8ms/step - loss: 1.9773e-04\n",
            "Epoch 190/200\n",
            "19/19 [==============================] - 0s 8ms/step - loss: 1.8372e-04\n",
            "Epoch 191/200\n",
            "19/19 [==============================] - 0s 8ms/step - loss: 1.7850e-04\n",
            "Epoch 192/200\n",
            "19/19 [==============================] - 0s 8ms/step - loss: 1.8633e-04\n",
            "Epoch 193/200\n",
            "19/19 [==============================] - 0s 8ms/step - loss: 1.7699e-04\n",
            "Epoch 194/200\n",
            "19/19 [==============================] - 0s 8ms/step - loss: 1.7869e-04\n",
            "Epoch 195/200\n",
            "19/19 [==============================] - 0s 8ms/step - loss: 1.7797e-04\n",
            "Epoch 196/200\n",
            "19/19 [==============================] - 0s 8ms/step - loss: 1.7210e-04\n",
            "Epoch 197/200\n",
            "19/19 [==============================] - 0s 8ms/step - loss: 1.7954e-04\n",
            "Epoch 198/200\n",
            "19/19 [==============================] - 0s 9ms/step - loss: 1.7605e-04\n",
            "Epoch 199/200\n",
            "19/19 [==============================] - 0s 8ms/step - loss: 1.9163e-04\n",
            "Epoch 200/200\n",
            "19/19 [==============================] - 0s 9ms/step - loss: 1.8924e-04\n"
          ]
        },
        {
          "output_type": "execute_result",
          "data": {
            "text/plain": [
              "<keras.callbacks.History at 0x7f4fd367cad0>"
            ]
          },
          "metadata": {},
          "execution_count": 20
        }
      ]
    },
    {
      "cell_type": "code",
      "source": [
        "dataset_test = pd.read_csv('testset.csv')"
      ],
      "metadata": {
        "id": "aY_2AOPBfS9F"
      },
      "execution_count": null,
      "outputs": []
    },
    {
      "cell_type": "code",
      "source": [
        "test_set = dataset_test.iloc[:,1:2].values"
      ],
      "metadata": {
        "id": "GkqMrffSfS_k"
      },
      "execution_count": null,
      "outputs": []
    },
    {
      "cell_type": "code",
      "source": [
        "test_set.shape"
      ],
      "metadata": {
        "colab": {
          "base_uri": "https://localhost:8080/"
        },
        "id": "n6aWl0qFfTEk",
        "outputId": "a4baf02f-e624-431c-ea48-3fdb40044543"
      },
      "execution_count": null,
      "outputs": [
        {
          "output_type": "execute_result",
          "data": {
            "text/plain": [
              "(125, 1)"
            ]
          },
          "metadata": {},
          "execution_count": 24
        }
      ]
    },
    {
      "cell_type": "code",
      "source": [
        "dataset_total = pd.concat((data['Open'],dataset_test['Open']),axis=0)"
      ],
      "metadata": {
        "id": "RH2_59X6fTHk"
      },
      "execution_count": null,
      "outputs": []
    },
    {
      "cell_type": "code",
      "source": [
        "inputs = dataset_total.values\n",
        "inputs = inputs.reshape(-1,1)\n",
        "inputs_scaled=sc.transform(inputs)\n",
        "X_test = []\n",
        "for i in range(60,1384):\n",
        "    X_test.append(inputs_scaled[i-60:i,0])\n",
        "X_test = np.array(X_test)\n",
        "X_test = np.reshape(X_test,(X_test.shape[0], X_test.shape[1],1))"
      ],
      "metadata": {
        "id": "2kv5qkRMeFrj"
      },
      "execution_count": null,
      "outputs": []
    },
    {
      "cell_type": "code",
      "source": [
        "print(X_test.shape)"
      ],
      "metadata": {
        "colab": {
          "base_uri": "https://localhost:8080/"
        },
        "id": "05i-28cbeFt4",
        "outputId": "a2f44e36-eda7-4207-f6a5-bb033c55ec1f"
      },
      "execution_count": null,
      "outputs": [
        {
          "output_type": "stream",
          "name": "stdout",
          "text": [
            "(1324, 60, 1)\n"
          ]
        }
      ]
    },
    {
      "cell_type": "code",
      "source": [
        "predicted_stock_price_scaled = model.predict(X_test)\n",
        "predicted_stock_price = sc.inverse_transform(predicted_stock_price_scaled)"
      ],
      "metadata": {
        "id": "mXiWeLRpgK89",
        "colab": {
          "base_uri": "https://localhost:8080/"
        },
        "outputId": "fd57399e-1b6a-443d-9bac-16ab7f97f536"
      },
      "execution_count": null,
      "outputs": [
        {
          "output_type": "stream",
          "name": "stdout",
          "text": [
            "42/42 [==============================] - 0s 4ms/step\n"
          ]
        }
      ]
    },
    {
      "cell_type": "code",
      "source": [
        "plt.plot(np.arange(0,1384),inputs, color='gold', label = 'Test(Real) Google stock price')\n",
        "plt.plot(np.arange(60,1384),predicted_stock_price, color='silver', label = 'Predicted Google stock price')\n",
        "plt.title('Google Stock Price Prediction')\n",
        "plt.xlabel('Time')\n",
        "plt.ylabel('Google Stock Price')\n",
        "plt.legend()\n",
        "plt.show()"
      ],
      "metadata": {
        "colab": {
          "base_uri": "https://localhost:8080/",
          "height": 295
        },
        "id": "f7cq1L_JgK_M",
        "outputId": "97d38961-59a3-4e34-a267-ee2284732097"
      },
      "execution_count": null,
      "outputs": [
        {
          "output_type": "display_data",
          "data": {
            "text/plain": [
              "<Figure size 432x288 with 1 Axes>"
            ],
            "image/png": "[encoded data removed]"
          },
          "metadata": {
            "needs_background": "light"
          }
        }
      ]
    },
    {
      "cell_type": "code",
      "source": [
        "mse=tf.keras.losses.MeanSquaredError()"
      ],
      "metadata": {
        "id": "yREiAoDSgLBt"
      },
      "execution_count": null,
      "outputs": []
    },
    {
      "cell_type": "code",
      "source": [
        "mse(dataset_test[\"Close\"],predicted_stock_price)"
      ],
      "metadata": {
        "colab": {
          "base_uri": "https://localhost:8080/"
        },
        "id": "QInLuZOUgLEE",
        "outputId": "30cc6d82-bf83-459f-ae30-3c0866a8082b"
      },
      "execution_count": null,
      "outputs": [
        {
          "output_type": "execute_result",
          "data": {
            "text/plain": [
              "<tf.Tensor: shape=(), dtype=float32, numpy=192565.14>"
            ]
          },
          "metadata": {},
          "execution_count": 31
        }
      ]
    }
  ]
}